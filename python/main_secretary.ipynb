{
 "cells": [
  {
   "cell_type": "code",
   "metadata": {
    "cell_id": "b3bb9ea2-d2e5-43df-ba43-4ec26927e824",
    "tags": [],
    "deepnote_to_be_reexecuted": false,
    "source_hash": "be00dd65",
    "execution_start": 1643058085993,
    "execution_millis": 141370,
    "deepnote_output_heights": [
     611,
     578,
     272,
     443.3125
    ],
    "deepnote_cell_type": "code"
   },
   "source": "import distributions\nimport fair_secretary as fs\nimport unfair_secretary as ufs \nimport synthetic_data as syn_data\nimport numpy as np\nimport secretary_eval as se\nfrom utils import SecretaryInstance, GetThreshold, ComputeThreshold\nfrom secretary_data import GetSecretaryInputBank, GetSecretaryInputPokec, GetSecretaryInputUfrgs\n\nfrom tqdm import tqdm\nimport matplotlib.pyplot as plt\nimport pandas as pd\nimport pickle \n\n\ndef SecretaryExperiment(sizes, prob, num_rep, mode, data_mode):\n\n    if data_mode == \"synth\":\n        instance = syn_data.GetSecretaryInput(sizes, prob)\n    \n    if data_mode == \"bank\":\n        instance = GetSecretaryInputBank(100000)\n\n    if data_mode == \"pokec\":\n        # Create new instance (slower)\n        # instance = GetSecretaryInputPokec(40000)\n\n        # Load instance from file (faster)\n        instance = pickle.load(open('data/pokec_instance.dat', 'rb'))\n\n    if data_mode == \"ufrgs\":\n        instance = GetSecretaryInputUfrgs(100000)\n    \n    num_colors = len(sizes)\n    threshold = [single_prob * sum(sizes) for single_prob in GetThreshold(prob)]\n\n    answer = []    \n    \n    for _ in tqdm(range(num_rep)):\n        np.random.shuffle(instance)\n\n        # Fair\n        if mode == \"F\":\n            answer.append(fs.ComputeSolution(instance, num_colors, threshold))\n        \n        # Unfair SA\n        if mode == \"U\":\n            answer.append(ufs.ComputeSolution(instance))\n\n        # Unfair SCSA\n        if mode == \"S\":\n            answer.append(ufs.ComputeSolutionSingleColor(instance, prob))\n\n    return se.Eval(instance, answer, num_colors)\n\n\ndef PlotSecretary(num_rep, sizes, prob, file_name, data_mode):\n    \n    data = {\"Input\" : sizes}\n    num_colors = len(sizes)\n\n    # Generate data for plot\n    for mode in ['F', 'U', 'S']:\n        _, num_answer, correct_answer = SecretaryExperiment(sizes, prob, num_rep, mode, data_mode)\n\n        # Add results to data\n        data[mode + \"-Pick\"] = num_answer\n        data[mode + \"-Max\"] = correct_answer\n\n    # Create plot\n    plt.figure(figsize=(15, 8))\n\n    # Plot labels and colors to corresponding plot type\n    if data_mode == 'synth':\n        df = pd.DataFrame.from_dict(data, orient='index', \n            columns=['Color ' + str(i+1) for i in range(num_colors)])\n        ax = df.plot.bar(color=['cornflowerblue', 'salmon', 'wheat', 'dimgrey'])\n    \n    if data_mode == 'bank':\n        df = pd.DataFrame.from_dict(data, orient='index', \n            columns=['Before 30', '31-40', '41-50', '51-60', 'After 60'])\n        ax = df.plot.bar(color=['cornflowerblue', 'salmon', 'wheat', 'dimgrey', 'rebeccapurple'])\n        \n    if data_mode == 'pokec':\n        df = pd.DataFrame.from_dict(data, orient='index', \n            columns=['Under', 'Normal', 'Over', 'Obese 1', 'Obese 2'])\n        ax = df.plot.bar(color=['cornflowerblue', 'salmon', 'wheat', 'dimgrey', 'rebeccapurple'])\n\n    if data_mode == 'ufrgs':\n        df = pd.DataFrame.from_dict(data, orient='index', \n            columns=['Female', 'Male'])\n        ax = df.plot.bar(color=['cornflowerblue', 'salmon'])\n\n    ax.set_ylabel('Number of Occurrences')\n    plt.savefig(file_name, bbox_inches='tight', dpi=400)\n    plt.show()\n\n# Number of experiment repetitions \nnum_rep = 20000\n\n# Variables for synthetic experiments (equal p, general p)\nsizes = [10, 100, 1000, 10000]\nequal_prob = [0.25, 0.25, 0.25, 0.25]\ngeneral_prob = [0.3, 0.25, 0.25, 0.2]\n\n# Variables for maximization dataset experiments (bank, pokec)\nmax_prob = [0.2, 0.2, 0.2, 0.2, 0.2]\nsizes_bank = [7383, 16385, 10240, 6270, 910]\nsizes_pokec = [8278, 26629, 4409, 382, 302]\n\n# Variables for research extention dataset experiment (ufrgs)\nufrgs_prob = [0.5, 0.5]\nsizes_ufrgs = [20968, 22335]\n\n# Uncomment to run experiment\n# PlotSecretary(num_rep, sizes, equal_prob, 'plots/Secretaryplot_equal.png', 'synth')\n# PlotSecretary(num_rep, sizes, general_prob, 'plots/Secretaryplot_general.png', 'synth')\n# PlotSecretary(num_rep, sizes_bank, max_prob, 'plots/Secretaryplot_bank.png', 'bank')\nPlotSecretary(num_rep, sizes_pokec, max_prob, 'plots/Secretaryplot_pokec.png', 'pokec')\n# PlotSecretary(num_rep, sizes_ufrgs, ufrgs_prob, 'plots/Secretaryplot_ufrgs.png', 'ufrgs')",
   "outputs": [
    {
     "name": "stdout",
     "text": "Nodes and ids constructed.\nDegrees constructed.\n5 [129266, 363597, 91263, 10334, 4861]\n  1%|          | 165/20000 [01:11<2:22:59,  2.31it/s]\n",
     "output_type": "stream"
    },
    {
     "output_type": "error",
     "ename": "KeyboardInterrupt",
     "evalue": "",
     "traceback": [
      "\u001b[0;31m---------------------------------------------------------------------------\u001b[0m",
      "\u001b[0;31mKeyboardInterrupt\u001b[0m                         Traceback (most recent call last)",
      "\u001b[0;32m<ipython-input-2-67ee3d5bdcb0>\u001b[0m in \u001b[0;36m<module>\u001b[0;34m\u001b[0m\n\u001b[1;32m    117\u001b[0m \u001b[0;31m# PlotSecretary(num_rep, sizes, general_prob, 'plots/Secretaryplot_general.png', 'synth')\u001b[0m\u001b[0;34m\u001b[0m\u001b[0;34m\u001b[0m\u001b[0;34m\u001b[0m\u001b[0m\n\u001b[1;32m    118\u001b[0m \u001b[0;31m# PlotSecretary(num_rep, sizes_bank, max_prob, 'plots/Secretaryplot_bank.png', 'bank')\u001b[0m\u001b[0;34m\u001b[0m\u001b[0;34m\u001b[0m\u001b[0;34m\u001b[0m\u001b[0m\n\u001b[0;32m--> 119\u001b[0;31m \u001b[0mPlotSecretary\u001b[0m\u001b[0;34m(\u001b[0m\u001b[0mnum_rep\u001b[0m\u001b[0;34m,\u001b[0m \u001b[0msizes_pokec\u001b[0m\u001b[0;34m,\u001b[0m \u001b[0mmax_prob\u001b[0m\u001b[0;34m,\u001b[0m \u001b[0;34m'plots/Secretaryplot_pokec.png'\u001b[0m\u001b[0;34m,\u001b[0m \u001b[0;34m'pokec'\u001b[0m\u001b[0;34m)\u001b[0m\u001b[0;34m\u001b[0m\u001b[0;34m\u001b[0m\u001b[0m\n\u001b[0m\u001b[1;32m    120\u001b[0m \u001b[0;31m# PlotSecretary(num_rep, sizes_ufrgs, ufrgs_prob, 'plots/Secretaryplot_ufrgs.png', 'ufrgs')\u001b[0m\u001b[0;34m\u001b[0m\u001b[0;34m\u001b[0m\u001b[0;34m\u001b[0m\u001b[0m\n",
      "\u001b[0;32m<ipython-input-2-67ee3d5bdcb0>\u001b[0m in \u001b[0;36mPlotSecretary\u001b[0;34m(num_rep, sizes, prob, file_name, data_mode)\u001b[0m\n\u001b[1;32m     62\u001b[0m     \u001b[0;31m# Generate data for plot\u001b[0m\u001b[0;34m\u001b[0m\u001b[0;34m\u001b[0m\u001b[0;34m\u001b[0m\u001b[0m\n\u001b[1;32m     63\u001b[0m     \u001b[0;32mfor\u001b[0m \u001b[0mmode\u001b[0m \u001b[0;32min\u001b[0m \u001b[0;34m[\u001b[0m\u001b[0;34m'F'\u001b[0m\u001b[0;34m,\u001b[0m \u001b[0;34m'U'\u001b[0m\u001b[0;34m,\u001b[0m \u001b[0;34m'S'\u001b[0m\u001b[0;34m]\u001b[0m\u001b[0;34m:\u001b[0m\u001b[0;34m\u001b[0m\u001b[0;34m\u001b[0m\u001b[0m\n\u001b[0;32m---> 64\u001b[0;31m         \u001b[0m_\u001b[0m\u001b[0;34m,\u001b[0m \u001b[0mnum_answer\u001b[0m\u001b[0;34m,\u001b[0m \u001b[0mcorrect_answer\u001b[0m \u001b[0;34m=\u001b[0m \u001b[0mSecretaryExperiment\u001b[0m\u001b[0;34m(\u001b[0m\u001b[0msizes\u001b[0m\u001b[0;34m,\u001b[0m \u001b[0mprob\u001b[0m\u001b[0;34m,\u001b[0m \u001b[0mnum_rep\u001b[0m\u001b[0;34m,\u001b[0m \u001b[0mmode\u001b[0m\u001b[0;34m,\u001b[0m \u001b[0mdata_mode\u001b[0m\u001b[0;34m)\u001b[0m\u001b[0;34m\u001b[0m\u001b[0;34m\u001b[0m\u001b[0m\n\u001b[0m\u001b[1;32m     65\u001b[0m \u001b[0;34m\u001b[0m\u001b[0m\n\u001b[1;32m     66\u001b[0m         \u001b[0;31m# Add results to data\u001b[0m\u001b[0;34m\u001b[0m\u001b[0;34m\u001b[0m\u001b[0;34m\u001b[0m\u001b[0m\n",
      "\u001b[0;32m<ipython-input-2-67ee3d5bdcb0>\u001b[0m in \u001b[0;36mSecretaryExperiment\u001b[0;34m(sizes, prob, num_rep, mode, data_mode)\u001b[0m\n\u001b[1;32m     42\u001b[0m         \u001b[0;31m# Fair\u001b[0m\u001b[0;34m\u001b[0m\u001b[0;34m\u001b[0m\u001b[0;34m\u001b[0m\u001b[0m\n\u001b[1;32m     43\u001b[0m         \u001b[0;32mif\u001b[0m \u001b[0mmode\u001b[0m \u001b[0;34m==\u001b[0m \u001b[0;34m\"F\"\u001b[0m\u001b[0;34m:\u001b[0m\u001b[0;34m\u001b[0m\u001b[0;34m\u001b[0m\u001b[0m\n\u001b[0;32m---> 44\u001b[0;31m             \u001b[0manswer\u001b[0m\u001b[0;34m.\u001b[0m\u001b[0mappend\u001b[0m\u001b[0;34m(\u001b[0m\u001b[0mfs\u001b[0m\u001b[0;34m.\u001b[0m\u001b[0mComputeSolution\u001b[0m\u001b[0;34m(\u001b[0m\u001b[0minstance\u001b[0m\u001b[0;34m,\u001b[0m \u001b[0mnum_colors\u001b[0m\u001b[0;34m,\u001b[0m \u001b[0mthreshold\u001b[0m\u001b[0;34m)\u001b[0m\u001b[0;34m)\u001b[0m\u001b[0;34m\u001b[0m\u001b[0;34m\u001b[0m\u001b[0m\n\u001b[0m\u001b[1;32m     45\u001b[0m \u001b[0;34m\u001b[0m\u001b[0m\n\u001b[1;32m     46\u001b[0m         \u001b[0;31m# Unfair SA\u001b[0m\u001b[0;34m\u001b[0m\u001b[0;34m\u001b[0m\u001b[0;34m\u001b[0m\u001b[0m\n",
      "\u001b[0;32m/work/fact-ai/python/fair_secretary.py\u001b[0m in \u001b[0;36mComputeSolution\u001b[0;34m(elements, num_colors, thre)\u001b[0m\n\u001b[1;32m      5\u001b[0m     \u001b[0;31m# Compute max values\u001b[0m\u001b[0;34m\u001b[0m\u001b[0;34m\u001b[0m\u001b[0;34m\u001b[0m\u001b[0m\n\u001b[1;32m      6\u001b[0m     \u001b[0;32mfor\u001b[0m \u001b[0mi\u001b[0m \u001b[0;32min\u001b[0m \u001b[0mrange\u001b[0m\u001b[0;34m(\u001b[0m\u001b[0mlen\u001b[0m\u001b[0;34m(\u001b[0m\u001b[0melements\u001b[0m\u001b[0;34m)\u001b[0m\u001b[0;34m)\u001b[0m\u001b[0;34m:\u001b[0m\u001b[0;34m\u001b[0m\u001b[0;34m\u001b[0m\u001b[0m\n\u001b[0;32m----> 7\u001b[0;31m         \u001b[0;32mif\u001b[0m \u001b[0mi\u001b[0m \u001b[0;34m<\u001b[0m \u001b[0mthre\u001b[0m\u001b[0;34m[\u001b[0m\u001b[0melements\u001b[0m\u001b[0;34m[\u001b[0m\u001b[0mi\u001b[0m\u001b[0;34m]\u001b[0m\u001b[0;34m.\u001b[0m\u001b[0mcolor\u001b[0m\u001b[0;34m]\u001b[0m\u001b[0;34m:\u001b[0m\u001b[0;34m\u001b[0m\u001b[0;34m\u001b[0m\u001b[0m\n\u001b[0m\u001b[1;32m      8\u001b[0m             \u001b[0mmax_color\u001b[0m\u001b[0;34m[\u001b[0m\u001b[0melements\u001b[0m\u001b[0;34m[\u001b[0m\u001b[0mi\u001b[0m\u001b[0;34m]\u001b[0m\u001b[0;34m.\u001b[0m\u001b[0mcolor\u001b[0m\u001b[0;34m]\u001b[0m \u001b[0;34m=\u001b[0m \u001b[0mmax\u001b[0m\u001b[0;34m(\u001b[0m\u001b[0;34m[\u001b[0m\u001b[0mmax_color\u001b[0m\u001b[0;34m[\u001b[0m\u001b[0melements\u001b[0m\u001b[0;34m[\u001b[0m\u001b[0mi\u001b[0m\u001b[0;34m]\u001b[0m\u001b[0;34m.\u001b[0m\u001b[0mcolor\u001b[0m\u001b[0;34m]\u001b[0m\u001b[0;34m,\u001b[0m \u001b[0melements\u001b[0m\u001b[0;34m[\u001b[0m\u001b[0mi\u001b[0m\u001b[0;34m]\u001b[0m\u001b[0;34m.\u001b[0m\u001b[0mvalue\u001b[0m\u001b[0;34m]\u001b[0m\u001b[0;34m)\u001b[0m\u001b[0;34m\u001b[0m\u001b[0;34m\u001b[0m\u001b[0m\n\u001b[1;32m      9\u001b[0m \u001b[0;34m\u001b[0m\u001b[0m\n",
      "\u001b[0;31mKeyboardInterrupt\u001b[0m: "
     ]
    }
   ],
   "execution_count": null
  },
  {
   "cell_type": "code",
   "metadata": {
    "cell_id": "b8d0f62d-1189-4618-99a6-99a22a845122",
    "tags": [],
    "deepnote_to_be_reexecuted": true,
    "source_hash": "22e89cf3",
    "execution_start": 1643042405111,
    "execution_millis": 8,
    "deepnote_cell_type": "code"
   },
   "source": "# INDIVIDUAL EXPERIMENTS\n\n# _____________________ FAIR ________________________\n# Synthetic dataset, equal  p  values (F-Pick / F-Max equal p values)\n# SecretaryExperiment(sizes, equal_prob, num_rep, mode=\"fair\")\n\n# # Synthetic dataset, general p values (F-Pick / F-Max general p values)\n# SecretaryExperiment(sizes, general_prob, num_rep, mode=\"fair\")\n\n# _____________________ UNFAIR SA ____________________ \n# Synthetic dataset, equal  p values (U-Pick / U-Max equal p values)\n# SecretaryExperiment(sizes, equal_prob, num_rep, mode=\"unfair_SA\")\n\n# # Synthetic dataset, general p values (U-Pick / U-Max general p values)\n# SecretaryExperiment(sizes, general_prob, num_rep, mode=\"unfair_SA\")\n\n# _____________________ UNFAIR SCSA _____________________\n# Synthetic dataset, equal  p values (S-Pick / S-Max equal p values)\n# SecretaryExperiment(sizes, equal_prob, num_rep, mode=\"unfair_SCSA\")\n\n# # Synthetic dataset, general p values (S-Pick / S-Max general p values)\n# SecretaryExperiment(sizes, general_prob, num_rep, mode=\"unfair_SCSA\")                                                                                                                                                                                                                                                  ",
   "execution_count": null,
   "outputs": []
  },
  {
   "cell_type": "markdown",
   "source": "<a style='text-decoration:none;line-height:16px;display:flex;color:#5B5B62;padding:10px;justify-content:end;' href='https://deepnote.com?utm_source=created-in-deepnote-cell&projectId=aa043478-e839-47cf-996f-1ea34897d0a7' target=\"_blank\">\n<img alt='Created in deepnote.com' style='display:inline;max-height:16px;margin:0px;margin-right:7.5px;' src='data:image/svg+xml;base64,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' > </img>\nCreated in <span style='font-weight:600;margin-left:4px;'>Deepnote</span></a>",
   "metadata": {
    "tags": [],
    "created_in_deepnote_cell": true,
    "deepnote_cell_type": "markdown"
   }
  }
 ],
 "nbformat": 4,
 "nbformat_minor": 2,
 "metadata": {
  "orig_nbformat": 2,
  "deepnote": {
   "is_reactive": false
  },
  "deepnote_notebook_id": "17e2013e-2307-4647-bd93-ef2bae075e1e",
  "deepnote_execution_queue": []
 }
}