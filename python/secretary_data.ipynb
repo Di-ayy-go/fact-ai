{
 "cells": [
  {
   "cell_type": "code",
   "metadata": {
    "tags": [],
    "cell_id": "20ff16b3-2a21-4ba8-8cee-c59989455b0a",
    "deepnote_to_be_reexecuted": false,
    "source_hash": "2dc1e8ea",
    "execution_start": 1643021675384,
    "execution_millis": 28635,
    "deepnote_cell_type": "code"
   },
   "source": "from utils import SecretaryInstance\nimport gzip\n\ndef CalculateBMI(weight, height):\n    BMI = weight / ((height/100.0)**2)\n    \n    if BMI < 18.5:\n        return 0\n\n    if 18.5 <= BMI <= 24.9:\n        return 1\n\n    if 25.0 <= BMI <= 29.9:\n        return 2\n\n    if 30.0 <= BMI <= 34.9:\n        return 3\n\n    if BMI >= 35.0:\n        return 4 \n\n\ndef GetSecretaryInputPokec():\n    input_bmi = \"data/soc-pokec-profiles.txt.gz\"\n    input_edges = \"data/soc-pokec-relationships.txt.gz\"\n\n    nodes = []\n    ids = []\n    with gzip.open(input_bmi, 'rt') as in_bmi:\n        # with gzip.open(input_edges, 'rt') as in_edges:\n        for i, line in enumerate(in_bmi.readlines()):\n            print(line)\n            break\n            # weight = \n            # height =\n            # user_id = \n            # nodes.append(CalculateBMI(weight, height))\n            # ids.append(user_id)\n        \n            # nodes = None\n            # in_edges = None\n            # counter = 0\n            \n            \n            \n    return \n    # instance = []\n    # for i in range(counter):\n    #     instance.append(SecretaryInstance(degrees[i] + i * 0.0000001, nodes[i]))\n\n    # num_colors = 0\n    # for i in instance:\n    #     num_colors = max(num_colors, i.color)\n\n    # numcolors += 1\n    # return instance\n\nprint(GetSecretaryInputPokec())",
   "execution_count": 13,
   "outputs": [
    {
     "name": "stdout",
     "text": "1\t1\t14\t1\tzilinsky kraj, zilina\t2012-05-25 11:20:00.0\t2005-04-03 00:00:00.0\t26\t185 cm, 90 kg\tit\tanglicky\tsportovanie, spanie, kino, jedlo, pocuvanie hudby, priatelia, divadlo\tv dobrej restauracii\tmam psa\tnull\tnull\tnull\tnull\tnull\tnull\tnull\tnull\tnull\tnull\tnull\tnull\tnull\tnull\tnull\tnull\tnull\tnull\tnull\tnull\tnull\tnull\tnull\tnull\tnull\tnull\tnull\tnull\tnull\tnull\tnull\tnull\tnull\tnull\tnull\tnull\tnull\tnull\tnull\tnull\tnull\tnull\tnull\tnull\tnull\t\n\nNone\n",
     "output_type": "stream"
    }
   ]
  },
  {
   "cell_type": "code",
   "metadata": {
    "cell_id": "e05139eb-18cd-42fc-9282-af25056deae5",
    "tags": [],
    "deepnote_to_be_reexecuted": false,
    "source_hash": "b623e53d",
    "execution_start": 1642673880559,
    "execution_millis": 0,
    "deepnote_cell_type": "code"
   },
   "source": "# vector<SecretaryInstance> PokecOracle::GetSecretaryInput() {\n#   string input_bmi = \"\";\n#   string input_edges = \"\";\n#   std::ifstream in_bmi(input_bmi);\n#   std::ifstream in_edges(input_edges);\n#   absl::btree_map<int, int> nodes;\n#   absl::btree_map<int, int> ids;\n#   int id, color;\n#   int counter = 0;\n#   while (in_bmi >> id >> color) {\n#     if (nodes.find(id) != nodes.end()) {\n#       std::cout << \"Error: ID '\" << id  << \"' does not exists.\" << std::endl;\n#     }\n#     nodes[id] = color;\n#     ids[id] = counter++;\n#   }\n#   std::cout << counter << std::endl;\n#   vector<int> degrees(counter, 0);\n#   int v1, v2;\n#   while (in_edges >> v1 >> v2) {\n#     if (ids.find(v1) != ids.end() && ids.find(v2) != ids.end()) {\n#       degrees[ids[v1]]++;\n#       degrees[ids[v2]]++;\n#     }\n#   }\n#   vector<SecretaryInstance> instance;\n#   instance.reserve(counter);\n#   for (int i = 0; i < counter; i++) {\n#     instance.push_back(SecretaryInstance(degrees[i] + i * 0.0000001, nodes[i]));\n#   }\n#   num_colors = 0;\n#   for (int i = 0; i < instance.size(); i++) {\n#     num_colors = std::max(num_colors, instance[i].color);\n#   }\n#   num_colors++;\n#   return instance;\n# }",
   "execution_count": null,
   "outputs": []
  },
  {
   "cell_type": "markdown",
   "source": "<a style='text-decoration:none;line-height:16px;display:flex;color:#5B5B62;padding:10px;justify-content:end;' href='https://deepnote.com?utm_source=created-in-deepnote-cell&projectId=aa043478-e839-47cf-996f-1ea34897d0a7' target=\"_blank\">\n<img alt='Created in deepnote.com' style='display:inline;max-height:16px;margin:0px;margin-right:7.5px;' src='data:image/svg+xml;base64,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' > </img>\nCreated in <span style='font-weight:600;margin-left:4px;'>Deepnote</span></a>",
   "metadata": {
    "tags": [],
    "created_in_deepnote_cell": true,
    "deepnote_cell_type": "markdown"
   }
  }
 ],
 "nbformat": 4,
 "nbformat_minor": 2,
 "metadata": {
  "orig_nbformat": 2,
  "deepnote": {
   "is_reactive": false
  },
  "deepnote_notebook_id": "7e472b1f-9819-4a94-bd30-e3149e87bab0",
  "deepnote_execution_queue": []
 }
}